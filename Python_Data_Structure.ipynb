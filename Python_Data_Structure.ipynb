{
  "nbformat": 4,
  "nbformat_minor": 0,
  "metadata": {
    "colab": {
      "name": "Python_Data_Structure.ipynb",
      "provenance": [],
      "authorship_tag": "ABX9TyOmy8ODSuFhvFzbz0nQ4XLe",
      "include_colab_link": true
    },
    "kernelspec": {
      "name": "python3",
      "display_name": "Python 3"
    },
    "language_info": {
      "name": "python"
    }
  },
  "cells": [
    {
      "cell_type": "markdown",
      "metadata": {
        "id": "view-in-github",
        "colab_type": "text"
      },
      "source": [
        "<a href=\"https://colab.research.google.com/github/Ayantika1998/Data-Structure_Python/blob/main/Python_Data_Structure.ipynb\" target=\"_parent\"><img src=\"https://colab.research.google.com/assets/colab-badge.svg\" alt=\"Open In Colab\"/></a>"
      ]
    },
    {
      "cell_type": "markdown",
      "source": [
        "# **Type of  Data Structures**"
      ],
      "metadata": {
        "id": "ZNWknVxOoenh"
      }
    },
    {
      "cell_type": "markdown",
      "source": [
        "\n",
        "\n",
        "*   The basic Python data structures in Python include list, set, tuples, and dictionary. \n",
        "*   Each of the data structures is unique in its own way. \n",
        "\n",
        "*   Data structures are “containers” that organize and group data according to type.\n",
        "*   The data structures differ based on mutability and order.\n",
        "\n",
        "\n",
        "\n",
        "\n",
        "\n",
        "\n",
        "\n",
        "\n",
        "\n",
        "\n"
      ],
      "metadata": {
        "id": "6wwQvFnsxXte"
      }
    },
    {
      "cell_type": "markdown",
      "source": [
        "## **Lists**"
      ],
      "metadata": {
        "id": "C9LtggcOoyDR"
      }
    },
    {
      "cell_type": "markdown",
      "source": [
        "* The list can be defined as an abstract data type in which the elements are stored in an ordered manner for easier and efficient retrieval of the elements. \n",
        "* List Data Structure allows repetition that means a single piece of data can occur more than once in a list. "
      ],
      "metadata": {
        "id": "onKUsVI0pQiD"
      }
    },
    {
      "cell_type": "code",
      "source": [
        "my_list = ['a','b','c','8'] #creating a list named my_list"
      ],
      "metadata": {
        "id": "JZwxmkSHopz9"
      },
      "execution_count": null,
      "outputs": []
    },
    {
      "cell_type": "code",
      "source": [
        "#we can call any element from list by its index position, for example let us call element 'b'\n",
        "my_list[1] #index from left"
      ],
      "metadata": {
        "colab": {
          "base_uri": "https://localhost:8080/",
          "height": 35
        },
        "id": "iZqzxR8IqcVf",
        "outputId": "1240649f-b570-4321-fefc-3e361a693c48"
      },
      "execution_count": null,
      "outputs": [
        {
          "output_type": "execute_result",
          "data": {
            "text/plain": [
              "'b'"
            ],
            "application/vnd.google.colaboratory.intrinsic+json": {
              "type": "string"
            }
          },
          "metadata": {},
          "execution_count": 85
        }
      ]
    },
    {
      "cell_type": "code",
      "source": [
        "#let us check what functionality is supported with list\n",
        "dir(my_list)"
      ],
      "metadata": {
        "colab": {
          "base_uri": "https://localhost:8080/"
        },
        "id": "i9VmQAe1qF4s",
        "outputId": "6cf1924d-bc51-45f4-c1e6-101bb88328e9"
      },
      "execution_count": null,
      "outputs": [
        {
          "output_type": "execute_result",
          "data": {
            "text/plain": [
              "['__add__',\n",
              " '__class__',\n",
              " '__contains__',\n",
              " '__delattr__',\n",
              " '__delitem__',\n",
              " '__dir__',\n",
              " '__doc__',\n",
              " '__eq__',\n",
              " '__format__',\n",
              " '__ge__',\n",
              " '__getattribute__',\n",
              " '__getitem__',\n",
              " '__gt__',\n",
              " '__hash__',\n",
              " '__iadd__',\n",
              " '__imul__',\n",
              " '__init__',\n",
              " '__init_subclass__',\n",
              " '__iter__',\n",
              " '__le__',\n",
              " '__len__',\n",
              " '__lt__',\n",
              " '__mul__',\n",
              " '__ne__',\n",
              " '__new__',\n",
              " '__reduce__',\n",
              " '__reduce_ex__',\n",
              " '__repr__',\n",
              " '__reversed__',\n",
              " '__rmul__',\n",
              " '__setattr__',\n",
              " '__setitem__',\n",
              " '__sizeof__',\n",
              " '__str__',\n",
              " '__subclasshook__',\n",
              " 'append',\n",
              " 'clear',\n",
              " 'copy',\n",
              " 'count',\n",
              " 'extend',\n",
              " 'index',\n",
              " 'insert',\n",
              " 'pop',\n",
              " 'remove',\n",
              " 'reverse',\n",
              " 'sort']"
            ]
          },
          "metadata": {},
          "execution_count": 3
        }
      ]
    },
    {
      "cell_type": "markdown",
      "source": [
        "**Some Important Functionality**"
      ],
      "metadata": {
        "id": "9Ujyaphm95qk"
      }
    },
    {
      "cell_type": "code",
      "source": [
        "#append() - let us append both sting and numerical element to my_list\n",
        "my_list.append('d')\n",
        "my_list.append(4)\n",
        "\n"
      ],
      "metadata": {
        "id": "JIxNfqBTqROr"
      },
      "execution_count": null,
      "outputs": []
    },
    {
      "cell_type": "code",
      "source": [
        "my_list"
      ],
      "metadata": {
        "colab": {
          "base_uri": "https://localhost:8080/"
        },
        "id": "ZZLFZzVhrtzJ",
        "outputId": "9a694d22-8057-4cbf-8d3c-a329866c0d65"
      },
      "execution_count": null,
      "outputs": [
        {
          "output_type": "execute_result",
          "data": {
            "text/plain": [
              "['a', 'b', 'c', '8', 'd', 4]"
            ]
          },
          "metadata": {},
          "execution_count": 87
        }
      ]
    },
    {
      "cell_type": "code",
      "source": [
        "my_list[-1] # index from left"
      ],
      "metadata": {
        "colab": {
          "base_uri": "https://localhost:8080/"
        },
        "id": "-RqBeyg-vIAS",
        "outputId": "9c260dd3-dbc1-4269-d480-fac47a91c5bf"
      },
      "execution_count": null,
      "outputs": [
        {
          "output_type": "execute_result",
          "data": {
            "text/plain": [
              "4"
            ]
          },
          "metadata": {},
          "execution_count": 88
        }
      ]
    },
    {
      "cell_type": "code",
      "source": [
        "#pop( ) - returns last item if index is not specified and removes it from the list\n",
        "my_list.pop(4)\n",
        "my_list"
      ],
      "metadata": {
        "colab": {
          "base_uri": "https://localhost:8080/"
        },
        "id": "YBWEdeHBssUJ",
        "outputId": "14898e96-7b6d-4dc9-b4c8-27e56634cbe7"
      },
      "execution_count": null,
      "outputs": [
        {
          "output_type": "execute_result",
          "data": {
            "text/plain": [
              "['a', 'b', 'c', '8', 4]"
            ]
          },
          "metadata": {},
          "execution_count": 89
        }
      ]
    },
    {
      "cell_type": "code",
      "source": [
        "#insert( ) -inserts item at a specific index location\n",
        "my_list.insert(8,14)\n",
        "my_list"
      ],
      "metadata": {
        "colab": {
          "base_uri": "https://localhost:8080/"
        },
        "id": "f3kaPhfQ-3Nh",
        "outputId": "26d3161f-bde2-4288-f2fb-38a139f86fb6"
      },
      "execution_count": null,
      "outputs": [
        {
          "output_type": "execute_result",
          "data": {
            "text/plain": [
              "['a', 'b', 'c', '8', 4, 14, 14]"
            ]
          },
          "metadata": {},
          "execution_count": 93
        }
      ]
    },
    {
      "cell_type": "markdown",
      "source": [
        "**Nested List**"
      ],
      "metadata": {
        "id": "k5ft4EFM_2_w"
      }
    },
    {
      "cell_type": "code",
      "source": [
        " # we can also create a nested list\n",
        " nest_list = [1,2,3,[4,5,['A']]]"
      ],
      "metadata": {
        "id": "-zPOfq4QsHvo"
      },
      "execution_count": null,
      "outputs": []
    },
    {
      "cell_type": "code",
      "source": [
        "#let us call element A\n",
        "nest_list[3][2][0]"
      ],
      "metadata": {
        "colab": {
          "base_uri": "https://localhost:8080/",
          "height": 35
        },
        "id": "hwj86VDusRrW",
        "outputId": "adefe362-5c3a-4735-c1eb-453f1c790734"
      },
      "execution_count": null,
      "outputs": [
        {
          "output_type": "execute_result",
          "data": {
            "text/plain": [
              "'A'"
            ],
            "application/vnd.google.colaboratory.intrinsic+json": {
              "type": "string"
            }
          },
          "metadata": {},
          "execution_count": 95
        }
      ]
    },
    {
      "cell_type": "markdown",
      "source": [
        "## **Set**"
      ],
      "metadata": {
        "id": "QKfAW80Nsn4e"
      }
    },
    {
      "cell_type": "markdown",
      "source": [
        "* A set is a data structure that are associative containers and store unique elements. \n",
        "* A stored element must be unique because it is identified with the value itself. \n",
        "* It is UNINDEXED and  UNORDERED"
      ],
      "metadata": {
        "id": "x3Uy-JYGtKjq"
      }
    },
    {
      "cell_type": "code",
      "source": [
        "my_set = {1,2,'A',1,False,1,'B',3,0,3,'A',2,2,'B',1,2}##creating a set named my_set"
      ],
      "metadata": {
        "id": "mYJk2p_QtHUN"
      },
      "execution_count": null,
      "outputs": []
    },
    {
      "cell_type": "code",
      "source": [
        "my_set #it returns all unique inputs"
      ],
      "metadata": {
        "colab": {
          "base_uri": "https://localhost:8080/"
        },
        "id": "_EpCIGGJvh0T",
        "outputId": "5f5d6098-d0ef-4cb8-a47a-8fad56c6b5e1"
      },
      "execution_count": null,
      "outputs": [
        {
          "output_type": "execute_result",
          "data": {
            "text/plain": [
              "{1, 2, 3, 'A', 'B', False}"
            ]
          },
          "metadata": {},
          "execution_count": 30
        }
      ]
    },
    {
      "cell_type": "markdown",
      "source": [
        "Here  a point to noted that False in Python refer to 0. So Either False or 0whatever comes first any one will be returned."
      ],
      "metadata": {
        "id": "n4Cm8uXpwX8c"
      }
    },
    {
      "cell_type": "code",
      "source": [
        "#let us check what functionality is supported with set\n",
        "dir(my_set)"
      ],
      "metadata": {
        "colab": {
          "base_uri": "https://localhost:8080/"
        },
        "id": "nhLH3pd0uB8N",
        "outputId": "dca2a80e-2aa6-45f4-a95d-268e5a991759"
      },
      "execution_count": null,
      "outputs": [
        {
          "output_type": "execute_result",
          "data": {
            "text/plain": [
              "['__and__',\n",
              " '__class__',\n",
              " '__contains__',\n",
              " '__delattr__',\n",
              " '__dir__',\n",
              " '__doc__',\n",
              " '__eq__',\n",
              " '__format__',\n",
              " '__ge__',\n",
              " '__getattribute__',\n",
              " '__gt__',\n",
              " '__hash__',\n",
              " '__iand__',\n",
              " '__init__',\n",
              " '__init_subclass__',\n",
              " '__ior__',\n",
              " '__isub__',\n",
              " '__iter__',\n",
              " '__ixor__',\n",
              " '__le__',\n",
              " '__len__',\n",
              " '__lt__',\n",
              " '__ne__',\n",
              " '__new__',\n",
              " '__or__',\n",
              " '__rand__',\n",
              " '__reduce__',\n",
              " '__reduce_ex__',\n",
              " '__repr__',\n",
              " '__ror__',\n",
              " '__rsub__',\n",
              " '__rxor__',\n",
              " '__setattr__',\n",
              " '__sizeof__',\n",
              " '__str__',\n",
              " '__sub__',\n",
              " '__subclasshook__',\n",
              " '__xor__',\n",
              " 'add',\n",
              " 'clear',\n",
              " 'copy',\n",
              " 'difference',\n",
              " 'difference_update',\n",
              " 'discard',\n",
              " 'intersection',\n",
              " 'intersection_update',\n",
              " 'isdisjoint',\n",
              " 'issubset',\n",
              " 'issuperset',\n",
              " 'pop',\n",
              " 'remove',\n",
              " 'symmetric_difference',\n",
              " 'symmetric_difference_update',\n",
              " 'union',\n",
              " 'update']"
            ]
          },
          "metadata": {},
          "execution_count": 27
        }
      ]
    },
    {
      "cell_type": "markdown",
      "source": [
        "**Some Important Functioanlity**"
      ],
      "metadata": {
        "id": "si1f8u_k7xHV"
      }
    },
    {
      "cell_type": "code",
      "source": [
        "#add( ) - adds item to a set\n",
        "my_set.add('C')\n"
      ],
      "metadata": {
        "id": "EI-U_b4n71CZ"
      },
      "execution_count": null,
      "outputs": []
    },
    {
      "cell_type": "code",
      "source": [
        "#update( ) - to add multiple items to a set at a time\n",
        "my_set.update('4','8')"
      ],
      "metadata": {
        "id": "4oWa4S478Tm1"
      },
      "execution_count": null,
      "outputs": []
    },
    {
      "cell_type": "code",
      "source": [
        "#Union( ) - it returns a new set with all items from both sets\n",
        "my_set2 = {4, 6, 3, 'A', 'C', True}\n",
        "my_set_U = my_set.union(my_set2)\n",
        "my_set_U"
      ],
      "metadata": {
        "colab": {
          "base_uri": "https://localhost:8080/"
        },
        "id": "Rq_K3RV28j3T",
        "outputId": "a949dfc1-8a23-44eb-b896-e23478153442"
      },
      "execution_count": null,
      "outputs": [
        {
          "output_type": "execute_result",
          "data": {
            "text/plain": [
              "{1, 2, 3, 4, '4', 6, '8', 'A', 'B', 'C'}"
            ]
          },
          "metadata": {},
          "execution_count": 72
        }
      ]
    },
    {
      "cell_type": "code",
      "source": [
        " #intersection() -return a new set, that only contains the items that are present in both sets\n",
        "my_set_I = my_set.intersection(my_set2)\n",
        "my_set_I"
      ],
      "metadata": {
        "colab": {
          "base_uri": "https://localhost:8080/"
        },
        "id": "WHeThMz-9WFV",
        "outputId": "702fffac-7b46-483b-b7f5-89e277da9bc0"
      },
      "execution_count": null,
      "outputs": [
        {
          "output_type": "execute_result",
          "data": {
            "text/plain": [
              "{3, 'A', 'C', True}"
            ]
          },
          "metadata": {},
          "execution_count": 73
        }
      ]
    },
    {
      "cell_type": "markdown",
      "source": [
        "## **Tuple**"
      ],
      "metadata": {
        "id": "oLC0U56QwoFt"
      }
    },
    {
      "cell_type": "markdown",
      "source": [
        "\n",
        "\n",
        "*   A tuple is a built-in data structure in Python that is an ordered collection of objects. Unlike lists, tuples come with limited functionality.\n",
        "\n",
        " \n",
        "*   The primary differing characteristic between lists and tuples is mutability. Lists are mutable, whereas tuples are immutable.\n",
        "\n"
      ],
      "metadata": {
        "id": "aq7oZEFawxTO"
      }
    },
    {
      "cell_type": "code",
      "source": [
        "my_tuple = (1,2,2,3) #creating a tuple named my_tuple\n"
      ],
      "metadata": {
        "id": "0q_aAegfwwlM"
      },
      "execution_count": null,
      "outputs": []
    },
    {
      "cell_type": "code",
      "source": [
        "my_tuple"
      ],
      "metadata": {
        "colab": {
          "base_uri": "https://localhost:8080/"
        },
        "id": "WOFhRtKmy6Jo",
        "outputId": "2273cf23-648b-4afd-e53c-a9222e8a0a6d"
      },
      "execution_count": null,
      "outputs": [
        {
          "output_type": "execute_result",
          "data": {
            "text/plain": [
              "(1, 2, 2, 3)"
            ]
          },
          "metadata": {},
          "execution_count": 40
        }
      ]
    },
    {
      "cell_type": "code",
      "source": [
        "#elememt can be called by index position \n",
        "my_tuple[3]"
      ],
      "metadata": {
        "colab": {
          "base_uri": "https://localhost:8080/"
        },
        "id": "V401OwBXzDSi",
        "outputId": "698a60b5-66b5-42a1-e2a0-eab50e18f794"
      },
      "execution_count": null,
      "outputs": [
        {
          "output_type": "execute_result",
          "data": {
            "text/plain": [
              "3"
            ]
          },
          "metadata": {},
          "execution_count": 42
        }
      ]
    },
    {
      "cell_type": "code",
      "source": [
        "#let us check what functionality is supported with tuple\n",
        "dir(my_tuple)"
      ],
      "metadata": {
        "colab": {
          "base_uri": "https://localhost:8080/"
        },
        "id": "Bsdd97bjzMOJ",
        "outputId": "207de80b-5bb3-4ad4-b9e0-bc0846e1a485"
      },
      "execution_count": null,
      "outputs": [
        {
          "output_type": "execute_result",
          "data": {
            "text/plain": [
              "['__add__',\n",
              " '__class__',\n",
              " '__contains__',\n",
              " '__delattr__',\n",
              " '__dir__',\n",
              " '__doc__',\n",
              " '__eq__',\n",
              " '__format__',\n",
              " '__ge__',\n",
              " '__getattribute__',\n",
              " '__getitem__',\n",
              " '__getnewargs__',\n",
              " '__gt__',\n",
              " '__hash__',\n",
              " '__init__',\n",
              " '__init_subclass__',\n",
              " '__iter__',\n",
              " '__le__',\n",
              " '__len__',\n",
              " '__lt__',\n",
              " '__mul__',\n",
              " '__ne__',\n",
              " '__new__',\n",
              " '__reduce__',\n",
              " '__reduce_ex__',\n",
              " '__repr__',\n",
              " '__rmul__',\n",
              " '__setattr__',\n",
              " '__sizeof__',\n",
              " '__str__',\n",
              " '__subclasshook__',\n",
              " 'count',\n",
              " 'index']"
            ]
          },
          "metadata": {},
          "execution_count": 43
        }
      ]
    },
    {
      "cell_type": "markdown",
      "source": [
        "**Some Important Functionality**"
      ],
      "metadata": {
        "id": "LNVna5PY6vIp"
      }
    },
    {
      "cell_type": "code",
      "source": [
        "#index() - elememt can be called by index position \n",
        "my_tuple.index(2)"
      ],
      "metadata": {
        "colab": {
          "base_uri": "https://localhost:8080/"
        },
        "id": "684HGgdJ60ft",
        "outputId": "4074a2ba-e494-4f60-fb31-344f088defaf"
      },
      "execution_count": null,
      "outputs": [
        {
          "output_type": "execute_result",
          "data": {
            "text/plain": [
              "1"
            ]
          },
          "metadata": {},
          "execution_count": 67
        }
      ]
    },
    {
      "cell_type": "code",
      "source": [
        "#count() -let us count no. of element in a tuple\n",
        "my_tuple.count(2)"
      ],
      "metadata": {
        "colab": {
          "base_uri": "https://localhost:8080/"
        },
        "id": "iTrf4DPAze7X",
        "outputId": "609d8f07-49b4-4363-febc-e22ddeaf8883"
      },
      "execution_count": null,
      "outputs": [
        {
          "output_type": "execute_result",
          "data": {
            "text/plain": [
              "2"
            ]
          },
          "metadata": {},
          "execution_count": 44
        }
      ]
    },
    {
      "cell_type": "markdown",
      "source": [
        "## **Dictionary**"
      ],
      "metadata": {
        "id": "WA_ak58nzycl"
      }
    },
    {
      "cell_type": "markdown",
      "source": [
        "* Dictionary is one of the important Data Structures that is usually used to store data in the key-value format. \n",
        "* Each element presents in a dictionary data structure compulsorily have a key and some value is associated with that particular key.\n",
        "* The relation or association between the key and the value is known as the mapping. keys are indexes, elements are values.\n",
        "* Like list we can perform many operations in dictionary\n",
        "\n"
      ],
      "metadata": {
        "id": "Ar4WcD4n0F6T"
      }
    },
    {
      "cell_type": "code",
      "source": [
        "my_d = {'k1':'item1','k2':'item2','2':'A', 'States':'Punjab'} #creating a dictioanry named my_d"
      ],
      "metadata": {
        "id": "ZtK4IrSuz8ts"
      },
      "execution_count": null,
      "outputs": []
    },
    {
      "cell_type": "code",
      "source": [
        "my_d"
      ],
      "metadata": {
        "colab": {
          "base_uri": "https://localhost:8080/"
        },
        "id": "qC_cfojP1OAR",
        "outputId": "6a297e97-1407-4dbe-b1c6-57a9410447b9"
      },
      "execution_count": null,
      "outputs": [
        {
          "output_type": "execute_result",
          "data": {
            "text/plain": [
              "{'k1': 'item1', 'k2': 'item2', '2': 'A', 'States': 'Punjab'}"
            ]
          },
          "metadata": {},
          "execution_count": 47
        }
      ]
    },
    {
      "cell_type": "code",
      "source": [
        "#we can call any element by its key\n",
        "my_d['k2']"
      ],
      "metadata": {
        "colab": {
          "base_uri": "https://localhost:8080/",
          "height": 35
        },
        "id": "KHF4E4G61Taj",
        "outputId": "db18f328-1046-4c7e-eea0-1ab0123e08c2"
      },
      "execution_count": null,
      "outputs": [
        {
          "output_type": "execute_result",
          "data": {
            "text/plain": [
              "'item2'"
            ],
            "application/vnd.google.colaboratory.intrinsic+json": {
              "type": "string"
            }
          },
          "metadata": {},
          "execution_count": 48
        }
      ]
    },
    {
      "cell_type": "code",
      "source": [
        "# to see tuples in form of key value format\n",
        "for c,d in my_d.items():\n",
        "  print(\"Key = \", c, end=\",\")\n",
        "  print(\" Value = \", d)"
      ],
      "metadata": {
        "colab": {
          "base_uri": "https://localhost:8080/"
        },
        "id": "TuxCzgr71ibG",
        "outputId": "10dcf67f-f455-499b-ff53-6b82164cb1d3"
      },
      "execution_count": null,
      "outputs": [
        {
          "output_type": "stream",
          "name": "stdout",
          "text": [
            "Key =  k1, Value =  item1\n",
            "Key =  k2, Value =  item2\n",
            "Key =  2, Value =  A\n",
            "Key =  States, Value =  Punjab\n"
          ]
        }
      ]
    },
    {
      "cell_type": "code",
      "source": [
        "#let us check what functionality is supported with dictionary\n",
        "dir(my_d)"
      ],
      "metadata": {
        "colab": {
          "base_uri": "https://localhost:8080/"
        },
        "id": "gG0L2ftU15AP",
        "outputId": "943a7713-209a-4c44-e47f-edd14893e0ef"
      },
      "execution_count": null,
      "outputs": [
        {
          "output_type": "execute_result",
          "data": {
            "text/plain": [
              "['__class__',\n",
              " '__contains__',\n",
              " '__delattr__',\n",
              " '__delitem__',\n",
              " '__dir__',\n",
              " '__doc__',\n",
              " '__eq__',\n",
              " '__format__',\n",
              " '__ge__',\n",
              " '__getattribute__',\n",
              " '__getitem__',\n",
              " '__gt__',\n",
              " '__hash__',\n",
              " '__init__',\n",
              " '__init_subclass__',\n",
              " '__iter__',\n",
              " '__le__',\n",
              " '__len__',\n",
              " '__lt__',\n",
              " '__ne__',\n",
              " '__new__',\n",
              " '__reduce__',\n",
              " '__reduce_ex__',\n",
              " '__repr__',\n",
              " '__setattr__',\n",
              " '__setitem__',\n",
              " '__sizeof__',\n",
              " '__str__',\n",
              " '__subclasshook__',\n",
              " 'clear',\n",
              " 'copy',\n",
              " 'fromkeys',\n",
              " 'get',\n",
              " 'items',\n",
              " 'keys',\n",
              " 'pop',\n",
              " 'popitem',\n",
              " 'setdefault',\n",
              " 'update',\n",
              " 'values']"
            ]
          },
          "metadata": {},
          "execution_count": 51
        }
      ]
    },
    {
      "cell_type": "markdown",
      "source": [
        "**Some Important Functioanlities**"
      ],
      "metadata": {
        "id": "-gDZXxSS53ic"
      }
    },
    {
      "cell_type": "code",
      "source": [
        "#keys() -  returns all the keys and only keys\n",
        "my_d.keys()\n"
      ],
      "metadata": {
        "colab": {
          "base_uri": "https://localhost:8080/"
        },
        "id": "hK3F7HXp3FvD",
        "outputId": "f17301f7-b3c9-4175-8d7f-6333a3a042bf"
      },
      "execution_count": null,
      "outputs": [
        {
          "output_type": "execute_result",
          "data": {
            "text/plain": [
              "dict_keys(['k1', '2', 'States'])"
            ]
          },
          "metadata": {},
          "execution_count": 58
        }
      ]
    },
    {
      "cell_type": "code",
      "source": [
        "#value() -returns only the values of all the keys\n",
        "my_d.values()"
      ],
      "metadata": {
        "colab": {
          "base_uri": "https://localhost:8080/"
        },
        "id": "Zwj0dJh25IcC",
        "outputId": "c4a406ef-c7f3-4b19-8f76-ee56ddf6e21c"
      },
      "execution_count": null,
      "outputs": [
        {
          "output_type": "execute_result",
          "data": {
            "text/plain": [
              "dict_values(['item1', 'A', 'Punjab'])"
            ]
          },
          "metadata": {},
          "execution_count": 60
        }
      ]
    },
    {
      "cell_type": "code",
      "source": [
        "#pop( ) -specified key value will be returned and removed from the dictionary\n",
        "my_d.pop('k1')\n"
      ],
      "metadata": {
        "colab": {
          "base_uri": "https://localhost:8080/",
          "height": 35
        },
        "id": "O2zmteCR5LIu",
        "outputId": "90cafbf6-1887-445e-fd5c-fc05eb829026"
      },
      "execution_count": null,
      "outputs": [
        {
          "output_type": "execute_result",
          "data": {
            "text/plain": [
              "'item1'"
            ],
            "application/vnd.google.colaboratory.intrinsic+json": {
              "type": "string"
            }
          },
          "metadata": {},
          "execution_count": 62
        }
      ]
    },
    {
      "cell_type": "code",
      "source": [
        "#update( ) -  used to add new items and can also be used to update existing key and values\n",
        "my_d.update({'8': \"Kolkata\"})"
      ],
      "metadata": {
        "id": "IIUtKmKE6TEe"
      },
      "execution_count": null,
      "outputs": []
    }
  ]
}